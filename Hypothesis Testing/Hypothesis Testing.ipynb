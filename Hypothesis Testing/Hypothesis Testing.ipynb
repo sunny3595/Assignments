{
 "cells": [
  {
   "cell_type": "markdown",
   "id": "986602ca",
   "metadata": {},
   "source": [
    "# Hypothesis Testing: Bombay Hospitality Ltd."
   ]
  },
  {
   "cell_type": "markdown",
   "id": "632902d2",
   "metadata": {},
   "source": [
    "### Step 1: Hypotheses\n",
    "Null Hypothesis (H0): The weekly operating cost follows the theoretical model.(mean = 4000)\n",
    "Alternative Hypothesis (H1): The weekly operating cost is higher than predicted by the theoretical model.(mean > 4000)"
   ]
  },
  {
   "cell_type": "markdown",
   "id": "c610cf7c",
   "metadata": {},
   "source": [
    "### Step 2: Calculate the Test Statistic"
   ]
  },
  {
   "cell_type": "code",
   "execution_count": 1,
   "id": "ebf76a1a",
   "metadata": {},
   "outputs": [
    {
     "data": {
      "text/plain": [
       "-38.0"
      ]
     },
     "execution_count": 1,
     "metadata": {},
     "output_type": "execute_result"
    }
   ],
   "source": [
    "import numpy as np\n",
    "from scipy import stats\n",
    "\n",
    "# Given data\n",
    "sample_mean_weekly_cost = 3050  # Rs.\n",
    "theoretical_mean_units_produced = 600  # units\n",
    "std_dev_units_produced = 25  # units\n",
    "sample_size = 25  # number of restaurants\n",
    "alpha = 0.05  # significance level\n",
    "\n",
    "# Theoretical mean weekly cost based on W = 1000 + 5X for X = 600 units\n",
    "theoretical_mean_weekly_cost = 1000 + 5 * theoretical_mean_units_produced\n",
    "\n",
    "# Standard deviation for the sample\n",
    "sigma = 5 * std_dev_units_produced\n",
    "\n",
    "# Test statistic formula (t)\n",
    "test_statistic = (sample_mean_weekly_cost - theoretical_mean_weekly_cost) / (sigma / np.sqrt(sample_size))\n",
    "test_statistic"
   ]
  },
  {
   "cell_type": "markdown",
   "id": "3ea402e5",
   "metadata": {},
   "source": [
    "### Step 3: Determine the Critical Value"
   ]
  },
  {
   "cell_type": "code",
   "execution_count": 2,
   "id": "06b4ca35",
   "metadata": {},
   "outputs": [
    {
     "data": {
      "text/plain": [
       "1.6448536269514722"
      ]
     },
     "execution_count": 2,
     "metadata": {},
     "output_type": "execute_result"
    }
   ],
   "source": [
    "# Determine the critical value for a one-tailed test at alpha = 0.05\n",
    "critical_value = stats.norm.ppf(1 - alpha)\n",
    "critical_value"
   ]
  },
  {
   "cell_type": "markdown",
   "id": "70d66a9f",
   "metadata": {},
   "source": [
    "### Step 4: Make a Decision"
   ]
  },
  {
   "cell_type": "code",
   "execution_count": 3,
   "id": "8b173ede",
   "metadata": {},
   "outputs": [
    {
     "data": {
      "text/plain": [
       "False"
      ]
     },
     "execution_count": 3,
     "metadata": {},
     "output_type": "execute_result"
    }
   ],
   "source": [
    "# Compare the test statistic with the critical value\n",
    "reject_null = test_statistic > critical_value\n",
    "reject_null"
   ]
  },
  {
   "cell_type": "markdown",
   "id": "c5d414ba",
   "metadata": {},
   "source": [
    "### Step 5: Conclusion"
   ]
  },
  {
   "cell_type": "code",
   "execution_count": 4,
   "id": "59e52553",
   "metadata": {},
   "outputs": [
    {
     "data": {
      "text/plain": [
       "'Fail to reject the null hypothesis. The weekly operating costs are not significantly higher than the model suggests.'"
      ]
     },
     "execution_count": 4,
     "metadata": {},
     "output_type": "execute_result"
    }
   ],
   "source": [
    "conclusion = \"Reject the null hypothesis. The weekly operating costs are higher than the model suggests.\" if reject_null else \"Fail to reject the null hypothesis. The weekly operating costs are not significantly higher than the model suggests.\"\n",
    "conclusion"
   ]
  },
  {
   "cell_type": "code",
   "execution_count": null,
   "id": "50ee7d25-8a82-4900-bdd0-da204a25db61",
   "metadata": {},
   "outputs": [],
   "source": []
  }
 ],
 "metadata": {
  "kernelspec": {
   "display_name": "Python 3 (ipykernel)",
   "language": "python",
   "name": "python3"
  },
  "language_info": {
   "codemirror_mode": {
    "name": "ipython",
    "version": 3
   },
   "file_extension": ".py",
   "mimetype": "text/x-python",
   "name": "python",
   "nbconvert_exporter": "python",
   "pygments_lexer": "ipython3",
   "version": "3.11.7"
  }
 },
 "nbformat": 4,
 "nbformat_minor": 5
}
