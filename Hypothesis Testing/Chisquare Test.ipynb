{
 "cells": [
  {
   "cell_type": "code",
   "execution_count": 11,
   "id": "0977c136-2b21-47e2-a7ed-52212d029667",
   "metadata": {},
   "outputs": [],
   "source": [
    "import numpy as np\n",
    "import pandas as pd\n",
    "from scipy.stats import chi2_contingency\n",
    "from scipy.stats import chi2"
   ]
  },
  {
   "cell_type": "code",
   "execution_count": 12,
   "id": "46022a0e-8d20-4985-8c85-1beb719e05a2",
   "metadata": {},
   "outputs": [],
   "source": [
    "# 1. State the Hypotheses:\n",
    "# H0 (null hypothesis): There is no significant association between the type of device and customer satisfaction level.\n",
    "# HA (alternative hypothesis): There is a significant association between the type of device and customer satisfaction level."
   ]
  },
  {
   "cell_type": "code",
   "execution_count": 13,
   "id": "c5d15c1a-003d-4ddb-acde-d8a12b6c5912",
   "metadata": {},
   "outputs": [
    {
     "data": {
      "text/html": [
       "<div>\n",
       "<style scoped>\n",
       "    .dataframe tbody tr th:only-of-type {\n",
       "        vertical-align: middle;\n",
       "    }\n",
       "\n",
       "    .dataframe tbody tr th {\n",
       "        vertical-align: top;\n",
       "    }\n",
       "\n",
       "    .dataframe thead th {\n",
       "        text-align: right;\n",
       "    }\n",
       "</style>\n",
       "<table border=\"1\" class=\"dataframe\">\n",
       "  <thead>\n",
       "    <tr style=\"text-align: right;\">\n",
       "      <th></th>\n",
       "      <th>Satisfaction</th>\n",
       "      <th>Smart Thermostat</th>\n",
       "      <th>Smart Light</th>\n",
       "      <th>Total</th>\n",
       "    </tr>\n",
       "  </thead>\n",
       "  <tbody>\n",
       "    <tr>\n",
       "      <th>0</th>\n",
       "      <td>Very Satisfied</td>\n",
       "      <td>50</td>\n",
       "      <td>70</td>\n",
       "      <td>120</td>\n",
       "    </tr>\n",
       "    <tr>\n",
       "      <th>1</th>\n",
       "      <td>Satisfied</td>\n",
       "      <td>80</td>\n",
       "      <td>100</td>\n",
       "      <td>180</td>\n",
       "    </tr>\n",
       "    <tr>\n",
       "      <th>2</th>\n",
       "      <td>Neutral</td>\n",
       "      <td>60</td>\n",
       "      <td>90</td>\n",
       "      <td>150</td>\n",
       "    </tr>\n",
       "    <tr>\n",
       "      <th>3</th>\n",
       "      <td>Unsatisfied</td>\n",
       "      <td>30</td>\n",
       "      <td>50</td>\n",
       "      <td>80</td>\n",
       "    </tr>\n",
       "    <tr>\n",
       "      <th>4</th>\n",
       "      <td>Very Unsatisfied</td>\n",
       "      <td>20</td>\n",
       "      <td>50</td>\n",
       "      <td>70</td>\n",
       "    </tr>\n",
       "  </tbody>\n",
       "</table>\n",
       "</div>"
      ],
      "text/plain": [
       "       Satisfaction  Smart Thermostat  Smart Light  Total\n",
       "0    Very Satisfied                50           70    120\n",
       "1         Satisfied                80          100    180\n",
       "2           Neutral                60           90    150\n",
       "3       Unsatisfied                30           50     80\n",
       "4  Very Unsatisfied                20           50     70"
      ]
     },
     "execution_count": 13,
     "metadata": {},
     "output_type": "execute_result"
    }
   ],
   "source": [
    "# Step 1: Create the contingency table as a pandas DataFrame\n",
    "data = {\n",
    "    'Satisfaction': ['Very Satisfied', 'Satisfied', 'Neutral', 'Unsatisfied', 'Very Unsatisfied'],\n",
    "    'Smart Thermostat': [50, 80, 60, 30, 20],\n",
    "    'Smart Light': [70, 100, 90, 50, 50],\n",
    "    'Total': [120, 180, 150, 80, 70]\n",
    "}\n",
    "\n",
    "df = pd.DataFrame(data)\n",
    "df"
   ]
  },
  {
   "cell_type": "code",
   "execution_count": 14,
   "id": "e6fb99fe-ca89-489b-b832-dc0277223a66",
   "metadata": {},
   "outputs": [
    {
     "data": {
      "text/plain": [
       "Chi2ContingencyResult(statistic=5.638227513227513, pvalue=0.22784371130697179, dof=4, expected_freq=array([[ 48.,  72.],\n",
       "       [ 72., 108.],\n",
       "       [ 60.,  90.],\n",
       "       [ 32.,  48.],\n",
       "       [ 28.,  42.]]))"
      ]
     },
     "execution_count": 14,
     "metadata": {},
     "output_type": "execute_result"
    }
   ],
   "source": [
    "# Step 2: Calculate the Chi-Square Statistic\n",
    "# Create the contingency table (without totals)\n",
    "contingency_table = df[['Smart Thermostat', 'Smart Light']].values\n",
    "\n",
    "# Perform the Chi-Square test\n",
    "chi2_stat, p, dof, expected = chi2_contingency(contingency_table)\n",
    "chi2_contingency(contingency_table)"
   ]
  },
  {
   "cell_type": "code",
   "execution_count": 15,
   "id": "c6cdc46e-d7ed-4d77-ab7c-9d1f7926c537",
   "metadata": {},
   "outputs": [],
   "source": [
    "# Step 3: Determine the Critical Value\n",
    "alpha = 0.05  # Significance level\n",
    "critical_value = chi2.ppf(1 - alpha, dof)"
   ]
  },
  {
   "cell_type": "code",
   "execution_count": 16,
   "id": "ba8c6809-a034-49fd-8d88-739215f8c643",
   "metadata": {},
   "outputs": [
    {
     "data": {
      "text/plain": [
       "{'Chi-Square Statistic': 5.638227513227513,\n",
       " 'Degrees of Freedom': 4,\n",
       " 'P-Value': 0.22784371130697179,\n",
       " 'Critical Value (at alpha=0.05)': 9.487729036781154,\n",
       " 'Conclusion': 'There is no significant association between the type of device and customer satisfaction level.'}"
      ]
     },
     "execution_count": 16,
     "metadata": {},
     "output_type": "execute_result"
    }
   ],
   "source": [
    "# Step 4: Decision Making\n",
    "decision = \"There is a significant association between the type of device and customer satisfaction level.\" if chi2_stat > critical_value else \"There is no significant association between the type of device and customer satisfaction level.\"\n",
    "\n",
    "# Save the output and results in a summary report\n",
    "summary_report = {\n",
    "    \"Chi-Square Statistic\": chi2_stat,\n",
    "    \"Degrees of Freedom\": dof,\n",
    "    \"P-Value\": p,\n",
    "    \"Critical Value (at alpha=0.05)\": critical_value,\n",
    "    \"Conclusion\": decision\n",
    "}\n",
    "summary_report"
   ]
  }
 ],
 "metadata": {
  "kernelspec": {
   "display_name": "Python 3 (ipykernel)",
   "language": "python",
   "name": "python3"
  },
  "language_info": {
   "codemirror_mode": {
    "name": "ipython",
    "version": 3
   },
   "file_extension": ".py",
   "mimetype": "text/x-python",
   "name": "python",
   "nbconvert_exporter": "python",
   "pygments_lexer": "ipython3",
   "version": "3.11.7"
  }
 },
 "nbformat": 4,
 "nbformat_minor": 5
}
