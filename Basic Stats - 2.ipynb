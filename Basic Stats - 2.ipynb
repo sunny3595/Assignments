{
 "cells": [
  {
   "cell_type": "code",
   "execution_count": 3,
   "id": "26913028-4957-4081-9e9b-56301a7749ff",
   "metadata": {},
   "outputs": [],
   "source": [
    "import numpy as np\n",
    "import scipy.stats as stats"
   ]
  },
  {
   "cell_type": "code",
   "execution_count": 4,
   "id": "ab0a71ba-e230-48bc-b541-d013c3cf0b02",
   "metadata": {},
   "outputs": [],
   "source": [
    "data=[1.13, 1.55, 1.43, 0.92, 1.25, 1.36, 1.32, 0.85, 1.07, 1.48, 1.20, 1.33, 1.18, 1.22, 1.29]"
   ]
  },
  {
   "cell_type": "code",
   "execution_count": 11,
   "id": "1dc3ec39-6529-45d4-9d83-3e0c8390beaf",
   "metadata": {},
   "outputs": [
    {
     "name": "stdout",
     "output_type": "stream",
     "text": [
      "1.2386666666666666\n"
     ]
    },
    {
     "data": {
      "text/plain": [
       "0.19316412956959936"
      ]
     },
     "execution_count": 11,
     "metadata": {},
     "output_type": "execute_result"
    }
   ],
   "source": [
    "# Sample statistics\n",
    "sample_mean = np.mean(data)\n",
    "sample_std = np.std(data, ddof=1)\n",
    "n = len(data)\n",
    "print(sample_mean)\n",
    "sample_std"
   ]
  },
  {
   "cell_type": "code",
   "execution_count": 13,
   "id": "61d1d241-e4da-4d64-9ab3-715f2a638c11",
   "metadata": {},
   "outputs": [
    {
     "data": {
      "text/plain": [
       "2.97684273411266"
      ]
     },
     "execution_count": 13,
     "metadata": {},
     "output_type": "execute_result"
    }
   ],
   "source": [
    "# Task a: Build 99% Confidence Interval Using Sample Standard Deviation (T-distribution)\n",
    "confidence_level = 0.99\n",
    "alpha = 1 - confidence_level\n",
    "t_critical = stats.t.ppf(1 - alpha/2, df=n-1)  # T critical value\n",
    "t_critical"
   ]
  },
  {
   "cell_type": "code",
   "execution_count": 17,
   "id": "d088be76-9c98-4c81-8f4c-48b7e590dcac",
   "metadata": {},
   "outputs": [
    {
     "name": "stdout",
     "output_type": "stream",
     "text": [
      "0.1484693282152996\n"
     ]
    },
    {
     "data": {
      "text/plain": [
       "(1.090197338451367, 1.3871359948819662)"
      ]
     },
     "execution_count": 17,
     "metadata": {},
     "output_type": "execute_result"
    }
   ],
   "source": [
    "# Margin of error\n",
    "margin_of_error_t = t_critical * (sample_std / np.sqrt(n))\n",
    "\n",
    "# Confidence interval\n",
    "ci_lower_t = sample_mean - margin_of_error_t\n",
    "ci_upper_t = sample_mean + margin_of_error_t\n",
    "ci_t_distribution = (ci_lower_t, ci_upper_t)\n",
    "print(margin_of_error_t)\n",
    "ci_t_distribution"
   ]
  },
  {
   "cell_type": "code",
   "execution_count": 16,
   "id": "ea27a6b2-1513-4652-afd5-85ba8030d02e",
   "metadata": {},
   "outputs": [
    {
     "data": {
      "text/plain": [
       "2.5758293035489004"
      ]
     },
     "execution_count": 16,
     "metadata": {},
     "output_type": "execute_result"
    }
   ],
   "source": [
    "# Task b: Build 99% Confidence Interval Using Known Population Standard Deviation (Z-distribution)\n",
    "population_std = 0.2\n",
    "z_critical = stats.norm.ppf(1 - alpha/2)  # Z critical value\n",
    "z_critical"
   ]
  },
  {
   "cell_type": "code",
   "execution_count": 18,
   "id": "ba8b3f5e-ce5d-4577-b789-0f66d83c2d77",
   "metadata": {},
   "outputs": [
    {
     "name": "stdout",
     "output_type": "stream",
     "text": [
      "0.13301525327090588\n"
     ]
    },
    {
     "data": {
      "text/plain": [
       "(1.1056514133957607, 1.3716819199375725)"
      ]
     },
     "execution_count": 18,
     "metadata": {},
     "output_type": "execute_result"
    }
   ],
   "source": [
    "# Margin of error\n",
    "margin_of_error_z = z_critical * (population_std / np.sqrt(n))\n",
    "\n",
    "# Confidence interval\n",
    "ci_lower_z = sample_mean - margin_of_error_z\n",
    "ci_upper_z = sample_mean + margin_of_error_z\n",
    "ci_z_distribution = (ci_lower_z, ci_upper_z)\n",
    "print(margin_of_error_z)\n",
    "ci_z_distribution"
   ]
  },
  {
   "cell_type": "code",
   "execution_count": null,
   "id": "c13a7f76-97ef-4eaf-93d3-32f011e9734e",
   "metadata": {},
   "outputs": [],
   "source": []
  }
 ],
 "metadata": {
  "kernelspec": {
   "display_name": "Python 3 (ipykernel)",
   "language": "python",
   "name": "python3"
  },
  "language_info": {
   "codemirror_mode": {
    "name": "ipython",
    "version": 3
   },
   "file_extension": ".py",
   "mimetype": "text/x-python",
   "name": "python",
   "nbconvert_exporter": "python",
   "pygments_lexer": "ipython3",
   "version": "3.11.7"
  }
 },
 "nbformat": 4,
 "nbformat_minor": 5
}
