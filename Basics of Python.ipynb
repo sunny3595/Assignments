{
 "cells": [
  {
   "cell_type": "code",
   "execution_count": 14,
   "id": "2198d971-d07d-4d3b-849b-1e937e261146",
   "metadata": {},
   "outputs": [
    {
     "name": "stdin",
     "output_type": "stream",
     "text": [
      "Enter a number:  21\n"
     ]
    },
    {
     "name": "stdout",
     "output_type": "stream",
     "text": [
      "21 is not a prime number.\n"
     ]
    }
   ],
   "source": [
    "# Exercise 1: Prime Numbers\n",
    "\n",
    "#Check for non prime number\n",
    "def is_prime(number):\n",
    "    if number <= 1:\n",
    "        return False\n",
    "    elif number <= 3:\n",
    "        return True\n",
    "    elif number % 2 == 0 or number % 3 == 0:\n",
    "        return False\n",
    "    i = 5\n",
    "    while i * i <= number:\n",
    "        if number % i == 0 or number % (i + 2) == 0:\n",
    "            return False\n",
    "        i += 6\n",
    "    return True\n",
    "number = int(input(\"Enter a number: \"))\n",
    "if is_prime(number):\n",
    "    print(number, \"is a prime number.\")\n",
    "else:\n",
    "    print(number, \"is not a prime number.\")"
   ]
  },
  {
   "cell_type": "code",
   "execution_count": 15,
   "id": "74f09f82-359c-4383-a66a-903a1fc86d0a",
   "metadata": {},
   "outputs": [
    {
     "name": "stdin",
     "output_type": "stream",
     "text": [
      "Enter a number:  29\n"
     ]
    },
    {
     "name": "stdout",
     "output_type": "stream",
     "text": [
      "29 is a prime number.\n"
     ]
    }
   ],
   "source": [
    "# Exercise 1: Prime Numbers\n",
    "\n",
    "#Check for prime number\n",
    "def is_prime(number):\n",
    "    if number <= 1:\n",
    "        return False\n",
    "    elif number <= 3:\n",
    "        return True\n",
    "    elif number % 2 == 0 or number % 3 == 0:\n",
    "        return False\n",
    "    i = 5\n",
    "    while i * i <= number:\n",
    "        if number % i == 0 or number % (i + 2) == 0:\n",
    "            return False\n",
    "        i += 6\n",
    "    return True\n",
    "number = int(input(\"Enter a number: \"))\n",
    "if is_prime(number):\n",
    "    print(number, \"is a prime number.\")\n",
    "else:\n",
    "    print(number, \"is not a prime number.\")"
   ]
  },
  {
   "cell_type": "code",
   "execution_count": 23,
   "id": "ce826689-310d-4418-9653-60e12d2b6a79",
   "metadata": {},
   "outputs": [
    {
     "name": "stdin",
     "output_type": "stream",
     "text": [
      "What is the product of 1 and 2?  2\n"
     ]
    },
    {
     "name": "stdout",
     "output_type": "stream",
     "text": [
      "2 is the correct answer!\n"
     ]
    }
   ],
   "source": [
    "# Exercise 2: Product of Random Numbers\n",
    "\n",
    "import random\n",
    "num1 = random.randint(1,10)\n",
    "num2 = random.randint(1,10)\n",
    "answer = num1*num2\n",
    "output = int(input(f\"What is the product of {num1} and {num2}? \"))\n",
    "if output == answer:\n",
    "    print(answer, \"is the correct answer!\")\n",
    "else:\n",
    "    print(\"Incorrect, The correct answer is\", answer)"
   ]
  },
  {
   "cell_type": "code",
   "execution_count": 24,
   "id": "a0c92347-feb3-4602-a599-3186c788892e",
   "metadata": {},
   "outputs": [
    {
     "name": "stdin",
     "output_type": "stream",
     "text": [
      "What is the product of 3 and 9?  25\n"
     ]
    },
    {
     "name": "stdout",
     "output_type": "stream",
     "text": [
      "Incorrect, The correct answer is 27\n"
     ]
    }
   ],
   "source": [
    "import random\n",
    "num1 = random.randint(1,10)\n",
    "num2 = random.randint(1,10)\n",
    "answer = num1*num2\n",
    "output = int(input(f\"What is the product of {num1} and {num2}? \"))\n",
    "if output == answer:\n",
    "    print(answer, \"is the correct answer!\")\n",
    "else:\n",
    "    print(\"Incorrect, The correct answer is\", answer)"
   ]
  },
  {
   "cell_type": "code",
   "execution_count": 31,
   "id": "84ae4dc0-3fad-4d29-8d56-1e698b1552a6",
   "metadata": {},
   "outputs": [
    {
     "name": "stdout",
     "output_type": "stream",
     "text": [
      "Squares of Even numbers\n",
      "The square of 2 is 4\n",
      "The square of 4 is 16\n",
      "The square of 6 is 36\n",
      "The square of 8 is 64\n",
      "The square of 10 is 100\n",
      "The square of 12 is 144\n",
      "The square of 14 is 196\n",
      "The square of 16 is 256\n",
      "The square of 18 is 324\n",
      "The square of 20 is 400\n",
      "The square of 22 is 484\n",
      "The square of 24 is 576\n",
      "The square of 26 is 676\n",
      "The square of 28 is 784\n",
      "The square of 30 is 900\n",
      "The square of 32 is 1024\n",
      "The square of 34 is 1156\n",
      "The square of 36 is 1296\n",
      "The square of 38 is 1444\n",
      "The square of 40 is 1600\n",
      "The square of 42 is 1764\n",
      "The square of 44 is 1936\n",
      "The square of 46 is 2116\n",
      "The square of 48 is 2304\n",
      "The square of 50 is 2500\n",
      "The square of 52 is 2704\n",
      "The square of 54 is 2916\n",
      "The square of 56 is 3136\n",
      "The square of 58 is 3364\n",
      "The square of 60 is 3600\n",
      "The square of 62 is 3844\n",
      "The square of 64 is 4096\n",
      "The square of 66 is 4356\n",
      "The square of 68 is 4624\n",
      "The square of 70 is 4900\n",
      "The square of 72 is 5184\n",
      "The square of 74 is 5476\n",
      "The square of 76 is 5776\n",
      "The square of 78 is 6084\n",
      "The square of 80 is 6400\n",
      "The square of 82 is 6724\n",
      "The square of 84 is 7056\n",
      "The square of 86 is 7396\n",
      "The square of 88 is 7744\n",
      "The square of 90 is 8100\n",
      "The square of 92 is 8464\n",
      "The square of 94 is 8836\n",
      "The square of 96 is 9216\n",
      "The square of 98 is 9604\n",
      "The square of 100 is 10000\n"
     ]
    }
   ],
   "source": [
    "# Exercise 3: Squares of Even/Odd Numbers\n",
    "\n",
    "print(\"Squares of Even numbers\")\n",
    "for i in range(1,101):\n",
    "    if i % 2 ==0:\n",
    "        square = i*i\n",
    "        print(\"The square of\",i, \"is\",square)"
   ]
  },
  {
   "cell_type": "code",
   "execution_count": 30,
   "id": "854538bb-9bb0-4f05-900a-30b5652cbb60",
   "metadata": {},
   "outputs": [
    {
     "name": "stdout",
     "output_type": "stream",
     "text": [
      "Squares of Odd numbers\n",
      "The square of 1 is 1\n",
      "The square of 3 is 9\n",
      "The square of 5 is 25\n",
      "The square of 7 is 49\n",
      "The square of 9 is 81\n",
      "The square of 11 is 121\n",
      "The square of 13 is 169\n",
      "The square of 15 is 225\n",
      "The square of 17 is 289\n",
      "The square of 19 is 361\n",
      "The square of 21 is 441\n",
      "The square of 23 is 529\n",
      "The square of 25 is 625\n",
      "The square of 27 is 729\n",
      "The square of 29 is 841\n",
      "The square of 31 is 961\n",
      "The square of 33 is 1089\n",
      "The square of 35 is 1225\n",
      "The square of 37 is 1369\n",
      "The square of 39 is 1521\n",
      "The square of 41 is 1681\n",
      "The square of 43 is 1849\n",
      "The square of 45 is 2025\n",
      "The square of 47 is 2209\n",
      "The square of 49 is 2401\n",
      "The square of 51 is 2601\n",
      "The square of 53 is 2809\n",
      "The square of 55 is 3025\n",
      "The square of 57 is 3249\n",
      "The square of 59 is 3481\n",
      "The square of 61 is 3721\n",
      "The square of 63 is 3969\n",
      "The square of 65 is 4225\n",
      "The square of 67 is 4489\n",
      "The square of 69 is 4761\n",
      "The square of 71 is 5041\n",
      "The square of 73 is 5329\n",
      "The square of 75 is 5625\n",
      "The square of 77 is 5929\n",
      "The square of 79 is 6241\n",
      "The square of 81 is 6561\n",
      "The square of 83 is 6889\n",
      "The square of 85 is 7225\n",
      "The square of 87 is 7569\n",
      "The square of 89 is 7921\n",
      "The square of 91 is 8281\n",
      "The square of 93 is 8649\n",
      "The square of 95 is 9025\n",
      "The square of 97 is 9409\n",
      "The square of 99 is 9801\n"
     ]
    }
   ],
   "source": [
    "print(\"Squares of Odd numbers\")\n",
    "for num in range(1,101):\n",
    "    if num % 2 != 0:\n",
    "        square = num*num\n",
    "        print(\"The square of\",num,\"is\",square)"
   ]
  },
  {
   "cell_type": "code",
   "execution_count": 41,
   "id": "ef6730ab-2537-4f60-a89c-de2da5a8a0b7",
   "metadata": {},
   "outputs": [
    {
     "name": "stdout",
     "output_type": "stream",
     "text": [
      "'This': 2\n",
      "'is': 1\n",
      "'a': 1\n",
      "'sample': 1\n",
      "'text.': 1\n",
      "'text': 1\n",
      "'will': 1\n",
      "'be': 1\n",
      "'used': 1\n",
      "'to': 1\n",
      "'demonstrate': 1\n",
      "'the': 1\n",
      "'word': 1\n",
      "'counter.': 1\n"
     ]
    }
   ],
   "source": [
    "# Exercise 4: Word counter\n",
    "\n",
    "def count_words(str):\n",
    "    word_counts = {}\n",
    "    counts = dict()\n",
    "    words = str.split()\n",
    "\n",
    "    for word in words:\n",
    "        if word in counts:\n",
    "            counts[word] += 1\n",
    "        else:\n",
    "            counts[word] = 1\n",
    "    return counts\n",
    "\n",
    "input_text = 'This is a sample text. This text will be used to demonstrate the word counter.'\n",
    "word_counts = count_words(input_text)\n",
    "for word, count in word_counts.items():\n",
    "    print(f\"'{word}': {count}\")"
   ]
  },
  {
   "cell_type": "code",
   "execution_count": 43,
   "id": "783599b4-74d8-4221-8665-1f0f6dd2f607",
   "metadata": {},
   "outputs": [
    {
     "name": "stdin",
     "output_type": "stream",
     "text": [
      "Enter the paindrome word: Panama\n"
     ]
    },
    {
     "name": "stdout",
     "output_type": "stream",
     "text": [
      "It's not a Palindrome\n"
     ]
    }
   ],
   "source": [
    "# Exercise 5: Check for Palindrome\n",
    "\n",
    "def isPalindrome(s):\n",
    "    return s == s[::-1]\n",
    "s = str(input(\"Enter the paindrome word:\"))\n",
    "ans = isPalindrome(s)\n",
    "if ans:\n",
    "    print(\"It's a Palindrome\")\n",
    "else:\n",
    "    print(\"It's not a Palindrome\")"
   ]
  },
  {
   "cell_type": "code",
   "execution_count": 44,
   "id": "fd4b9f7a-5bda-4058-af72-0e936f6dff49",
   "metadata": {},
   "outputs": [
    {
     "name": "stdin",
     "output_type": "stream",
     "text": [
      "Enter the paindrome word: rotator\n"
     ]
    },
    {
     "name": "stdout",
     "output_type": "stream",
     "text": [
      "It's a Palindrome\n"
     ]
    }
   ],
   "source": [
    "def isPalindrome(s):\n",
    "    return s == s[::-1]\n",
    "s = str(input(\"Enter the paindrome word:\"))\n",
    "ans = isPalindrome(s)\n",
    "if ans:\n",
    "    print(\"It's a Palindrome\")\n",
    "else:\n",
    "    print(\"It's not a Palindrome\")\n"
   ]
  }
 ],
 "metadata": {
  "kernelspec": {
   "display_name": "Python 3 (ipykernel)",
   "language": "python",
   "name": "python3"
  },
  "language_info": {
   "codemirror_mode": {
    "name": "ipython",
    "version": 3
   },
   "file_extension": ".py",
   "mimetype": "text/x-python",
   "name": "python",
   "nbconvert_exporter": "python",
   "pygments_lexer": "ipython3",
   "version": "3.10.15"
  }
 },
 "nbformat": 4,
 "nbformat_minor": 5
}
